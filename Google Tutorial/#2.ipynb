{
 "cells": [
  {
   "cell_type": "code",
   "execution_count": 10,
   "metadata": {
    "collapsed": false
   },
   "outputs": [
    {
     "name": "stdout",
     "output_type": "stream",
     "text": [
      "RT @rememberselu: 160326 Luhan 1st China Tour\n",
      "\n",
      "One year ago since the birth of Luhan's yellow ocean. This time is still so nostalgic. So mu…\n",
      "Sentiment(polarity=-0.25, subjectivity=0.5)\n",
      "\n",
      "RT @CreeksideAlison: \"China would see any attempt to block takeovers of Canadian companies on national security grounds as protectionism\"\n",
      "h…\n",
      "Sentiment(polarity=0.0, subjectivity=0.0)\n",
      "\n",
      "RT @kathe_Delphi: Cierre d campaña de AP en Ventanas con el grupo niche, hay plata para eso, pero para reconstruir Manabí acaba de pedir 10…\n",
      "Sentiment(polarity=0.0, subjectivity=0.0)\n",
      "\n",
      "@knms63 @mk_73116_nemui 記念日だよ………………………………………………\n",
      "Sentiment(polarity=0.0, subjectivity=0.0)\n",
      "\n",
      "これめちゃめちゃ飼いたいやつ！！\n",
      "\n",
      "RT\n",
      "Sentiment(polarity=0.0, subjectivity=0.0)\n",
      "\n",
      "RT @relatablehunhan: Korea's Crowned Prince meets China's Princess 😄\n",
      "'Love in the Chicken' https://t.co/PUpCzuapmf\n",
      "Sentiment(polarity=-0.04999999999999999, subjectivity=0.7749999999999999)\n",
      "\n",
      "RT @chinajournalorg: The Concept of Face in Chinese Culture and the Difference Between Mianzi and Lian https://t.co/GkM7a0lL2S #China\n",
      "Sentiment(polarity=0.0, subjectivity=0.0)\n",
      "\n",
      "RT @NPR: BREAKING: China's favored candidate has won Hong Kong's election for chief executive. Here's some background: https://t.co/dJlnT0V…\n",
      "Sentiment(polarity=0.8, subjectivity=0.9)\n",
      "\n",
      "China launches manned mission to experimental space station\n",
      "\n",
      "https://t.co/IxJyh0xrtn https://t.co/yAu2vXZq9Y\n",
      "Sentiment(polarity=0.1, subjectivity=0.4)\n",
      "\n",
      "TU ERES TAN #FALSO QUE HASTA TU MIRADA DICE \"MADE IN CHINA\" !!!\n",
      "Sentiment(polarity=0.0, subjectivity=0.0)\n",
      "\n",
      "RT @SpartAceCouple: Already back to Korea cr kjk china #spartace https://t.co/ojIDsWaonU\n",
      "Sentiment(polarity=0.0, subjectivity=0.0)\n",
      "\n",
      "Go west policy in #China starting to bear fruits https://t.co/ZxPjiEbjn4\n",
      "Sentiment(polarity=0.0, subjectivity=0.1)\n",
      "\n",
      "RT @mydeeryo: Birthday Support❤\n",
      "\n",
      "To celebrate Xiumin bday And Sehun upcoming bday,EXO中文首站 \n",
      "donated 500 trees to be planted in the northwest…\n",
      "Sentiment(polarity=0.0, subjectivity=0.0)\n",
      "\n",
      "Así es como un conductor con sueño ocasiona un accidente fatal VIDEO #GrandesMedios https://t.co/WXEoulLCGl\n",
      "Sentiment(polarity=0.0, subjectivity=0.0)\n",
      "\n"
     ]
    }
   ],
   "source": [
    "import tweepy\n",
    "from textblob import TextBlob\n",
    "\n",
    "# Step 1 - Authenticate\n",
    "consumer_key= 'q8qGM0hLbSb5WtheKtcrS8CS3'\n",
    "consumer_secret= '81it3Mkg08w0DcpzwPKq0C8r4FxOIDDOtrKiLCrTIAjbjmu4bX'\n",
    "\n",
    "access_token='2903451809-agrO7zCZi7KukkcYtOCyR2SwZ8HYFCqINKT4r3C'\n",
    "access_token_secret='jjFLDG5amPVmIfDFReK7FMdHYzPJLGKkYvKvHv4IL6MjY'\n",
    "\n",
    "auth = tweepy.OAuthHandler(consumer_key, consumer_secret)\n",
    "auth.set_access_token(access_token, access_token_secret)\n",
    "\n",
    "api = tweepy.API(auth)\n",
    "\n",
    "#Step 3 - Retrieve Tweets\n",
    "public_tweets = api.search('china')\n",
    "\n",
    "\n",
    "\n",
    "#CHALLENGE - Instead of printing out each tweet, save each Tweet to a CSV file\n",
    "#and label each one as either 'positive' or 'negative', depending on the sentiment \n",
    "#You can decide the sentiment polarity threshold yourself\n",
    "\n",
    "\n",
    "for tweet in public_tweets:\n",
    "    print(tweet.text)\n",
    "    \n",
    "    #Step 4 Perform Sentiment Analysis on Tweets\n",
    "    analysis = TextBlob(tweet.text)\n",
    "    print(analysis.sentiment)\n",
    "    print(\"\")"
   ]
  },
  {
   "cell_type": "code",
   "execution_count": null,
   "metadata": {
    "collapsed": true
   },
   "outputs": [],
   "source": []
  }
 ],
 "metadata": {
  "anaconda-cloud": {},
  "kernelspec": {
   "display_name": "Python [conda root]",
   "language": "python",
   "name": "conda-root-py"
  },
  "language_info": {
   "codemirror_mode": {
    "name": "ipython",
    "version": 2
   },
   "file_extension": ".py",
   "mimetype": "text/x-python",
   "name": "python",
   "nbconvert_exporter": "python",
   "pygments_lexer": "ipython2",
   "version": "2.7.12"
  }
 },
 "nbformat": 4,
 "nbformat_minor": 1
}

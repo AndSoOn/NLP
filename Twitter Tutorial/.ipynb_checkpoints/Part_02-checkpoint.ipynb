{
 "cells": [
  {
   "cell_type": "code",
   "execution_count": 2,
   "metadata": {
    "collapsed": false
   },
   "outputs": [],
   "source": [
    "import sys\n",
    "import json\n",
    "from pprint import pprint\n",
    "\n",
    "def hw():\n",
    "    print 'Hello, world!'\n",
    "\n",
    "def lines(fp):\n",
    "    print str(len(fp.readlines()))\n",
    "\n",
    "def pri(y):\n",
    "    print y\n",
    "\n",
    "    \n",
    "\n",
    "def main():\n",
    "\n",
    "    sent_file = open(sys.argv[1])\n",
    "    tweet_file = open(sys.argv[2])\n",
    "    #hw()\n",
    "    #lines(sent_file)\n",
    "    #lines(tweet_file)\t\n",
    "    #data=[]\n",
    "    \n",
    "    afinnfile = open(sys.argv[1])\n",
    "    scores = {} # initialize an empty dictionary\n",
    "    for line in afinnfile:\n",
    "        term, score  = line.split(\"\\t\")  \n",
    "        scores[term] = int(score)  \n",
    "\n",
    "    #print scores.items() \n",
    "    \n",
    "    new=open(sys.argv[2])\n",
    "    for line in new:\n",
    "        data=json.loads(line)\n",
    "    #pri(data)\n",
    "        sum=0\n",
    "        if \"text\" in data:\n",
    "            l=data[\"text\"]\n",
    "            l2=l.encode('ascii','ignore')\n",
    "            #l3=\"hi i am ujjwal\"\n",
    "        #pri(l2)\n",
    "            #for word in l3:\n",
    "        #print(word)\n",
    "            ter=l2.split(\" \")\n",
    "            #print(ter)\n",
    "            for a in ter:\n",
    "                #print a\n",
    "                if a in scores:\n",
    "                    sum=sum+scores.get(a)\n",
    "            print sum          \n",
    "                \n",
    "                \n",
    "    \n",
    "    #l3=\"hi i am ujjwal\"\n",
    "    #print (l3)\n",
    "    #word=l3.split(\" \")\n",
    "    #print word\n"
   ]
  },
  {
   "cell_type": "code",
   "execution_count": 3,
   "metadata": {
    "collapsed": false
   },
   "outputs": [
    {
     "ename": "IOError",
     "evalue": "[Errno 2] No such file or directory: '-f'",
     "output_type": "error",
     "traceback": [
      "\u001b[0;31m---------------------------------------------------------------------------\u001b[0m",
      "\u001b[0;31mIOError\u001b[0m                                   Traceback (most recent call last)",
      "\u001b[0;32m<ipython-input-3-58ca95c5b364>\u001b[0m in \u001b[0;36m<module>\u001b[0;34m()\u001b[0m\n\u001b[0;32m----> 1\u001b[0;31m \u001b[0mmain\u001b[0m\u001b[0;34m(\u001b[0m\u001b[0;34m)\u001b[0m\u001b[0;34m\u001b[0m\u001b[0m\n\u001b[0m",
      "\u001b[0;32m<ipython-input-2-81eb553663f6>\u001b[0m in \u001b[0;36mmain\u001b[0;34m()\u001b[0m\n\u001b[1;32m     16\u001b[0m \u001b[0;32mdef\u001b[0m \u001b[0mmain\u001b[0m\u001b[0;34m(\u001b[0m\u001b[0;34m)\u001b[0m\u001b[0;34m:\u001b[0m\u001b[0;34m\u001b[0m\u001b[0m\n\u001b[1;32m     17\u001b[0m \u001b[0;34m\u001b[0m\u001b[0m\n\u001b[0;32m---> 18\u001b[0;31m     \u001b[0msent_file\u001b[0m \u001b[0;34m=\u001b[0m \u001b[0mopen\u001b[0m\u001b[0;34m(\u001b[0m\u001b[0msys\u001b[0m\u001b[0;34m.\u001b[0m\u001b[0margv\u001b[0m\u001b[0;34m[\u001b[0m\u001b[0;36m1\u001b[0m\u001b[0;34m]\u001b[0m\u001b[0;34m)\u001b[0m\u001b[0;34m\u001b[0m\u001b[0m\n\u001b[0m\u001b[1;32m     19\u001b[0m     \u001b[0mtweet_file\u001b[0m \u001b[0;34m=\u001b[0m \u001b[0mopen\u001b[0m\u001b[0;34m(\u001b[0m\u001b[0msys\u001b[0m\u001b[0;34m.\u001b[0m\u001b[0margv\u001b[0m\u001b[0;34m[\u001b[0m\u001b[0;36m2\u001b[0m\u001b[0;34m]\u001b[0m\u001b[0;34m)\u001b[0m\u001b[0;34m\u001b[0m\u001b[0m\n\u001b[1;32m     20\u001b[0m     \u001b[0;31m#hw()\u001b[0m\u001b[0;34m\u001b[0m\u001b[0;34m\u001b[0m\u001b[0m\n",
      "\u001b[0;31mIOError\u001b[0m: [Errno 2] No such file or directory: '-f'"
     ]
    }
   ],
   "source": [
    "main()"
   ]
  },
  {
   "cell_type": "code",
   "execution_count": null,
   "metadata": {
    "collapsed": true
   },
   "outputs": [],
   "source": []
  }
 ],
 "metadata": {
  "kernelspec": {
   "display_name": "Python [conda root]",
   "language": "python",
   "name": "conda-root-py"
  },
  "language_info": {
   "codemirror_mode": {
    "name": "ipython",
    "version": 2
   },
   "file_extension": ".py",
   "mimetype": "text/x-python",
   "name": "python",
   "nbconvert_exporter": "python",
   "pygments_lexer": "ipython2",
   "version": "2.7.12"
  }
 },
 "nbformat": 4,
 "nbformat_minor": 1
}

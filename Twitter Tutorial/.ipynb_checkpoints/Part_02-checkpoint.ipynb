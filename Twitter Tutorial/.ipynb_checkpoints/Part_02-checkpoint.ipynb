{
 "cells": [
  {
   "cell_type": "code",
   "execution_count": 1,
   "metadata": {
    "collapsed": false
   },
   "outputs": [
    {
     "ename": "IndentationError",
     "evalue": "expected an indented block (<ipython-input-1-631d9848eb88>, line 39)",
     "output_type": "error",
     "traceback": [
      "\u001b[0;36m  File \u001b[0;32m\"<ipython-input-1-631d9848eb88>\"\u001b[0;36m, line \u001b[0;32m39\u001b[0m\n\u001b[0;31m    l=data[\"text\"]\u001b[0m\n\u001b[0m    ^\u001b[0m\n\u001b[0;31mIndentationError\u001b[0m\u001b[0;31m:\u001b[0m expected an indented block\n"
     ]
    }
   ],
   "source": [
    "import sys\n",
    "import json\n",
    "from pprint import pprint\n",
    "\n",
    "def hw():\n",
    "    print 'Hello, world!'\n",
    "\n",
    "def lines(fp):\n",
    "    print str(len(fp.readlines()))\n",
    "\n",
    "def pri(y):\n",
    "    print y\n",
    "\n",
    "    \n",
    "\n",
    "def main():\n",
    "\n",
    "    sent_file = open(sys.argv[1])\n",
    "    tweet_file = open(sys.argv[2])\n",
    "    #hw()\n",
    "    #lines(sent_file)\n",
    "    #lines(tweet_file)\t\n",
    "    #data=[]\n",
    "    \n",
    "    afinnfile = open(sys.argv[1])\n",
    "    scores = {} # initialize an empty dictionary\n",
    "    for line in afinnfile:\n",
    "        term, score  = line.split(\"\\t\")  \n",
    "        scores[term] = int(score)  \n",
    "\n",
    "    #print scores.items() \n",
    "    \n",
    "    new=open(sys.argv[2])\n",
    "    for line in new:\n",
    "        data=json.loads(line)\n",
    "    #pri(data)\n",
    "        sum=0\n",
    "        if \"text\" in data:\n",
    "            l=data[\"text\"]\n",
    "            l2=l.encode('ascii','ignore')\n",
    "            #l3=\"hi i am ujjwal\"\n",
    "        #pri(l2)\n",
    "            #for word in l3:\n",
    "        #print(word)\n",
    "            ter=l2.split(\" \")\n",
    "            #print(ter)\n",
    "            for a in ter:\n",
    "                #print a\n",
    "                if a in scores:\n",
    "                    sum=sum+scores.get(a)\n",
    "            print sum          \n",
    "                \n",
    "                \n",
    "    \n",
    "    #l3=\"hi i am ujjwal\"\n",
    "    #print (l3)\n",
    "    #word=l3.split(\" \")\n",
    "    #print word\n"
   ]
  },
  {
   "cell_type": "code",
   "execution_count": null,
   "metadata": {
    "collapsed": true
   },
   "outputs": [],
   "source": []
  }
 ],
 "metadata": {
  "kernelspec": {
   "display_name": "Python [conda root]",
   "language": "python",
   "name": "conda-root-py"
  },
  "language_info": {
   "codemirror_mode": {
    "name": "ipython",
    "version": 2
   },
   "file_extension": ".py",
   "mimetype": "text/x-python",
   "name": "python",
   "nbconvert_exporter": "python",
   "pygments_lexer": "ipython2",
   "version": "2.7.12"
  }
 },
 "nbformat": 4,
 "nbformat_minor": 1
}
